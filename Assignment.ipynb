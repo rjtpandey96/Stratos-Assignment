{
  "nbformat": 4,
  "nbformat_minor": 0,
  "metadata": {
    "colab": {
      "name": "Untitled0.ipynb",
      "provenance": []
    },
    "kernelspec": {
      "name": "python3",
      "display_name": "Python 3"
    },
    "language_info": {
      "name": "python"
    }
  },
  "cells": [
    {
      "cell_type": "code",
      "execution_count": null,
      "metadata": {
        "id": "d6y33CAbWrHQ"
      },
      "outputs": [],
      "source": [
        "import pandas as pd\n"
      ]
    },
    {
      "cell_type": "code",
      "source": [
        "df = pd.read_csv(\"Programming Exercise Data.csv\")\n",
        "print (df)"
      ],
      "metadata": {
        "colab": {
          "base_uri": "https://localhost:8080/"
        },
        "id": "pLlTFz9hW8HZ",
        "outputId": "411642ac-9447-4cc4-f7e7-4a8cb5770995"
      },
      "execution_count": null,
      "outputs": [
        {
          "output_type": "stream",
          "name": "stdout",
          "text": [
            "     Country Name      1960      1961      1962      1963      1964      1965  \\\n",
            "0           Aruba     54208     55434     56234     56699     57029     57357   \n",
            "1     Afghanistan   8996967   9169406   9351442   9543200   9744772   9956318   \n",
            "2          Angola   5454938   5531451   5608499   5679409   5734995   5770573   \n",
            "3         Albania   1608800   1659800   1711319   1762621   1814135   1864791   \n",
            "4         Andorra     13410     14378     15379     16407     17466     18542   \n",
            "..            ...       ...       ...       ...       ...       ...       ...   \n",
            "209        Kosovo    947000    966000    994000   1022000   1050000   1078000   \n",
            "210   Yemen, Rep.   5315351   5393034   5473671   5556767   5641598   5727745   \n",
            "211  South Africa  17099836  17524533  17965733  18423157  18896303  19384838   \n",
            "212        Zambia   3070780   3164330   3260645   3360099   3463211   3570466   \n",
            "213      Zimbabwe   3776679   3905038   4039209   4178726   4322854   4471178   \n",
            "\n",
            "         1966      1967      1968  ...        2012        2013        2014  \\\n",
            "0       57702     58044     58377  ...    102565.0    103165.0    103776.0   \n",
            "1    10174840  10399936  10637064  ...  31161378.0  32269592.0  33370804.0   \n",
            "2     5781305   5774440   5771973  ...  25107925.0  26015786.0  26941773.0   \n",
            "3     1914573   1965598   2022272  ...   2900401.0   2895092.0   2889104.0   \n",
            "4       19646     20760     21886  ...     82427.0     80770.0     79213.0   \n",
            "..        ...       ...       ...  ...         ...         ...         ...   \n",
            "209   1106000   1135000   1163000  ...   1807106.0   1818117.0   1812771.0   \n",
            "210   5816241   5907873   6001858  ...  24473176.0  25147112.0  25823488.0   \n",
            "211  19888259  20406863  20942147  ...  52832659.0  53687125.0  54544184.0   \n",
            "212   3681953   3797877   3918872  ...  14465148.0  14926551.0  15399793.0   \n",
            "213   4623340   4779825   4941901  ...  13115149.0  13350378.0  13586710.0   \n",
            "\n",
            "           2015        2016        2017        2018        2019        2020  \\\n",
            "0      104339.0    104865.0    105361.0    105846.0    106310.0    106766.0   \n",
            "1    34413603.0  35383028.0  36296111.0  37171922.0  38041757.0  38928341.0   \n",
            "2    27884380.0  28842482.0  29816769.0  30809787.0  31825299.0  32866268.0   \n",
            "3     2880703.0   2876101.0   2873457.0   2866376.0   2854191.0   2837849.0   \n",
            "4       77993.0     77295.0     76997.0     77008.0     77146.0     77265.0   \n",
            "..          ...         ...         ...         ...         ...         ...   \n",
            "209   1788196.0   1777557.0   1791003.0   1797085.0   1788878.0   1790133.0   \n",
            "210  26497881.0  27168210.0  27834811.0  28498683.0  29161922.0  29825968.0   \n",
            "211  55386369.0  56207649.0  57009751.0  57792520.0  58558267.0  59308690.0   \n",
            "212  15879370.0  16363449.0  16853608.0  17351714.0  17861034.0  18383956.0   \n",
            "213  13814642.0  14030338.0  14236599.0  14438812.0  14645473.0  14862927.0   \n",
            "\n",
            "     Unnamed: 62  \n",
            "0            NaN  \n",
            "1            NaN  \n",
            "2            NaN  \n",
            "3            NaN  \n",
            "4            NaN  \n",
            "..           ...  \n",
            "209          NaN  \n",
            "210          NaN  \n",
            "211          NaN  \n",
            "212          NaN  \n",
            "213          NaN  \n",
            "\n",
            "[214 rows x 63 columns]\n"
          ]
        }
      ]
    },
    {
      "cell_type": "code",
      "source": [
        "def Q2(year):\n",
        "  print(df.loc[df[str(year)].idxmax()].at['Country Name'] + \" - \" + str(df[str(year)].max()))\n",
        "  print(df.loc[df[str(year)].idxmin()].at['Country Name'] + \" - \" + str(df[str(year)].min()))\t"
      ],
      "metadata": {
        "id": "P-m9LCdsX4MW"
      },
      "execution_count": null,
      "outputs": []
    },
    {
      "cell_type": "code",
      "source": [
        "Q2(2020)"
      ],
      "metadata": {
        "colab": {
          "base_uri": "https://localhost:8080/"
        },
        "id": "7jh2UrEqW89Q",
        "outputId": "7618de93-857b-49cd-a08d-1e943e368c5f"
      },
      "execution_count": null,
      "outputs": [
        {
          "output_type": "stream",
          "name": "stdout",
          "text": [
            "Middle income - 5853079114.0\n",
            "Nauru - 10834.0\n"
          ]
        }
      ]
    },
    {
      "cell_type": "code",
      "source": [
        "# Q3\n",
        "GrowthVals = list(100 * ( df['2020'] - df['1960'] ) / df['1960']) \n",
        "\n",
        "print(df.loc[GrowthVals.index(max(GrowthVals))].at['Country Name'] + \" - \" + str(max(GrowthVals)))\n",
        "print(df.loc[GrowthVals.index(min(GrowthVals))].at['Country Name'] + \" - \" + str(min(GrowthVals)))"
      ],
      "metadata": {
        "colab": {
          "base_uri": "https://localhost:8080/"
        },
        "id": "PMUmPIKSZ56X",
        "outputId": "6fd7b989-13e1-4510-c682-485e677a7e23"
      },
      "execution_count": null,
      "outputs": [
        {
          "output_type": "stream",
          "name": "stdout",
          "text": [
            "United Arab Emirates - 10601.92713461809\n",
            "Bulgaria - -11.863666326273544\n"
          ]
        }
      ]
    },
    {
      "cell_type": "code",
      "source": [
        "def Q4(y1,y2):\n",
        "  GrowthVals = list(100 * ( df[str(y2)] - df[str(y1)] ) / df[str(y1)]) \n",
        "\n",
        "  print(df.loc[GrowthVals.index(max(GrowthVals))].at['Country Name'] + \" - \" + str(max(GrowthVals)))\n",
        "  print(df.loc[GrowthVals.index(min(GrowthVals))].at['Country Name'] + \" - \" + str(min(GrowthVals)))\n"
      ],
      "metadata": {
        "id": "FFfLRvEidVBy"
      },
      "execution_count": null,
      "outputs": []
    },
    {
      "cell_type": "code",
      "source": [
        "Q4(1960,2020)"
      ],
      "metadata": {
        "colab": {
          "base_uri": "https://localhost:8080/"
        },
        "id": "ugbc1LqbeqvH",
        "outputId": "293cf696-d5d4-4d67-876e-73cbf48190ac"
      },
      "execution_count": null,
      "outputs": [
        {
          "output_type": "stream",
          "name": "stdout",
          "text": [
            "United Arab Emirates - 10601.92713461809\n",
            "Bulgaria - -11.863666326273544\n"
          ]
        }
      ]
    },
    {
      "cell_type": "code",
      "source": [
        "def Q5(numYears, y2):\n",
        "  y1 = y2 - numYears\n",
        "  if(y1<1960):\n",
        "    print(\"Out of Range\")\n",
        "  else:\n",
        "    GrowthVals = list(100 * ( df[str(y2)] - df[str(y1)] ) / df[str(y1)])\n",
        "    a = list(df[str(y2)])\n",
        "    b = a + GrowthVals\n",
        "    print(df['Country Name']+ \" - \" + str(b))\n",
        "    #df[str(y2 + numYears)] = df[str(y2)] + GrowthVals\n",
        "    #print(df['Country Name']+ \" - \" + df[str(y2 + numYears)])\n",
        "    #print(df.loc[GrowthVals.index(min(GrowthVals))].at['Country Name'] + \" - \" + df[str(y2)] + GrowthVals)\n"
      ],
      "metadata": {
        "id": "G-wTUOBjewnH"
      },
      "execution_count": 35,
      "outputs": []
    },
    {
      "cell_type": "code",
      "source": [
        "Q5(5,2020)"
      ],
      "metadata": {
        "colab": {
          "base_uri": "https://localhost:8080/"
        },
        "id": "3oDDkuYqCRav",
        "outputId": "54ce7235-1883-4609-e98d-a647520e0662"
      },
      "execution_count": 36,
      "outputs": [
        {
          "output_type": "stream",
          "name": "stdout",
          "text": [
            "0      Aruba - [106766.0, 38928341.0, 32866268.0, 283...\n",
            "1      Afghanistan - [106766.0, 38928341.0, 32866268....\n",
            "2      Angola - [106766.0, 38928341.0, 32866268.0, 28...\n",
            "3      Albania - [106766.0, 38928341.0, 32866268.0, 2...\n",
            "4      Andorra - [106766.0, 38928341.0, 32866268.0, 2...\n",
            "                             ...                        \n",
            "209    Kosovo - [106766.0, 38928341.0, 32866268.0, 28...\n",
            "210    Yemen, Rep. - [106766.0, 38928341.0, 32866268....\n",
            "211    South Africa - [106766.0, 38928341.0, 32866268...\n",
            "212    Zambia - [106766.0, 38928341.0, 32866268.0, 28...\n",
            "213    Zimbabwe - [106766.0, 38928341.0, 32866268.0, ...\n",
            "Name: Country Name, Length: 214, dtype: object\n"
          ]
        }
      ]
    }
  ]
}